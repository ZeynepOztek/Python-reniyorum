{
 "cells": [
  {
   "cell_type": "markdown",
   "id": "c8511659",
   "metadata": {},
   "source": [
    "## Veri Türleri"
   ]
  },
  {
   "cell_type": "code",
   "execution_count": null,
   "id": "10bc1aa2",
   "metadata": {},
   "outputs": [],
   "source": [
    "Metin         str\n",
    "Sayı          int, float, complex\n",
    "Dize (Seri)   list, tuple, range\n",
    "Haritalama    dict\n",
    "Atama         set, frozenset\n",
    "Mantıksal     bool\n",
    "İkili         bytes, bytearray, memoryview"
   ]
  },
  {
   "cell_type": "markdown",
   "id": "c02539bc",
   "metadata": {},
   "source": [
    "## String Metodları"
   ]
  },
  {
   "cell_type": "code",
   "execution_count": 1,
   "id": "ed7bda16",
   "metadata": {},
   "outputs": [
    {
     "data": {
      "text/plain": [
       "'Merhaba Dünya!'"
      ]
     },
     "execution_count": 1,
     "metadata": {},
     "output_type": "execute_result"
    }
   ],
   "source": [
    "a = \" Merhaba Dünya! \"\n",
    "a.strip()"
   ]
  },
  {
   "cell_type": "code",
   "execution_count": 2,
   "id": "db4a1935",
   "metadata": {},
   "outputs": [
    {
     "data": {
      "text/plain": [
       "'merhaba dünya!'"
      ]
     },
     "execution_count": 2,
     "metadata": {},
     "output_type": "execute_result"
    }
   ],
   "source": [
    "a = \"Merhaba Dünya!\"\n",
    "a.lower()"
   ]
  },
  {
   "cell_type": "code",
   "execution_count": 3,
   "id": "1a7d039f",
   "metadata": {},
   "outputs": [
    {
     "data": {
      "text/plain": [
       "'MERHABA DÜNYA!'"
      ]
     },
     "execution_count": 3,
     "metadata": {},
     "output_type": "execute_result"
    }
   ],
   "source": [
    "a = \"Merhaba Dünya!\"\n",
    "a.upper()"
   ]
  },
  {
   "cell_type": "code",
   "execution_count": 4,
   "id": "51a75e0d",
   "metadata": {},
   "outputs": [
    {
     "data": {
      "text/plain": [
       "'Nerhaba Dünya!'"
      ]
     },
     "execution_count": 4,
     "metadata": {},
     "output_type": "execute_result"
    }
   ],
   "source": [
    "a = \"Merhaba Dünya!\"\n",
    "a.replace(\"M\", \"N\")"
   ]
  },
  {
   "cell_type": "code",
   "execution_count": 5,
   "id": "effeb930",
   "metadata": {},
   "outputs": [
    {
     "data": {
      "text/plain": [
       "['Merhaba', 'Dünya!']"
      ]
     },
     "execution_count": 5,
     "metadata": {},
     "output_type": "execute_result"
    }
   ],
   "source": [
    "a = \"Merhaba Dünya!\"\n",
    "a.split(\" \")"
   ]
  },
  {
   "cell_type": "code",
   "execution_count": 8,
   "id": "8de3c50b",
   "metadata": {},
   "outputs": [
    {
     "name": "stdout",
     "output_type": "stream",
     "text": [
      "False\n",
      "True\n"
     ]
    }
   ],
   "source": [
    "txt = \"Akdeniz Bölgesinde dağlar denize paraleldir\"\n",
    "x = \"paralel\" not in txt\n",
    "print(x)\n",
    "y = \"paralel\" in txt\n",
    "print(y)"
   ]
  },
  {
   "cell_type": "code",
   "execution_count": 9,
   "id": "ec4592ca",
   "metadata": {},
   "outputs": [
    {
     "name": "stdout",
     "output_type": "stream",
     "text": [
      "Benim adım Murat, ve ben 36 yaşındayım!\n"
     ]
    }
   ],
   "source": [
    "yas = 36\n",
    "metin = \"Benim adım Murat, ve ben {} yaşındayım!\"\n",
    "print(metin.format(yas))"
   ]
  },
  {
   "cell_type": "code",
   "execution_count": 10,
   "id": "f6f88781",
   "metadata": {},
   "outputs": [
    {
     "name": "stdout",
     "output_type": "stream",
     "text": [
      "Ben 3 parça 567 numaralı üründen 49.95 TL karşılığında alacağım.\n"
     ]
    }
   ],
   "source": [
    "adet = 3\n",
    "urun = 567\n",
    "fiyat = 49.95\n",
    "siparis = \"Ben {0} parça {1} numaralı üründen {2} TL karşılığında alacağım.\"\n",
    "print(siparis.format(adet, urun, fiyat))"
   ]
  },
  {
   "cell_type": "code",
   "execution_count": null,
   "id": "0a5747cc",
   "metadata": {},
   "outputs": [],
   "source": [
    "\\     Üst ayraç\n",
    "\\\\    Ters eğik çizgi\n",
    "\\n    Yeni satır\n",
    "\\r    Giriş (enter)\n",
    "\\t    Sekme\n",
    "\\b    Geri tuşu"
   ]
  },
  {
   "cell_type": "code",
   "execution_count": null,
   "id": "0e93d912",
   "metadata": {},
   "outputs": [],
   "source": []
  }
 ],
 "metadata": {
  "kernelspec": {
   "display_name": "Python 3 (ipykernel)",
   "language": "python",
   "name": "python3"
  },
  "language_info": {
   "codemirror_mode": {
    "name": "ipython",
    "version": 3
   },
   "file_extension": ".py",
   "mimetype": "text/x-python",
   "name": "python",
   "nbconvert_exporter": "python",
   "pygments_lexer": "ipython3",
   "version": "3.11.5"
  }
 },
 "nbformat": 4,
 "nbformat_minor": 5
}
