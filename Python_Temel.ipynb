{
 "cells": [
  {
   "cell_type": "markdown",
   "id": "c8511659",
   "metadata": {},
   "source": [
    "## Veri Türleri"
   ]
  },
  {
   "cell_type": "markdown",
   "id": "6263ef50-69ff-4939-8440-9f06e930f47b",
   "metadata": {},
   "source": [
    "Metin         str\n",
    "Sayı          int, float, complex\n",
    "Dize (Seri)   list, tuple, range\n",
    "Haritalama    dict\n",
    "Atama         set, frozenset\n",
    "Mantıksal     bool\n",
    "İkili         bytes, bytearray, memoryview"
   ]
  },
  {
   "cell_type": "markdown",
   "id": "c02539bc",
   "metadata": {},
   "source": [
    "## String Metodları"
   ]
  },
  {
   "cell_type": "code",
   "execution_count": 2,
   "id": "ed7bda16",
   "metadata": {},
   "outputs": [
    {
     "data": {
      "text/plain": [
       "'Merhaba Dünya!'"
      ]
     },
     "execution_count": 2,
     "metadata": {},
     "output_type": "execute_result"
    }
   ],
   "source": [
    "a = \" Merhaba Dünya! \"\n",
    "a.strip()"
   ]
  },
  {
   "cell_type": "code",
   "execution_count": 3,
   "id": "db4a1935",
   "metadata": {},
   "outputs": [
    {
     "data": {
      "text/plain": [
       "'merhaba dünya!'"
      ]
     },
     "execution_count": 3,
     "metadata": {},
     "output_type": "execute_result"
    }
   ],
   "source": [
    "a = \"Merhaba Dünya!\"\n",
    "a.lower()"
   ]
  },
  {
   "cell_type": "code",
   "execution_count": 4,
   "id": "1a7d039f",
   "metadata": {},
   "outputs": [
    {
     "data": {
      "text/plain": [
       "'MERHABA DÜNYA!'"
      ]
     },
     "execution_count": 4,
     "metadata": {},
     "output_type": "execute_result"
    }
   ],
   "source": [
    "a = \"Merhaba Dünya!\"\n",
    "a.upper()"
   ]
  },
  {
   "cell_type": "code",
   "execution_count": 5,
   "id": "51a75e0d",
   "metadata": {},
   "outputs": [
    {
     "data": {
      "text/plain": [
       "'Nerhaba Dünya!'"
      ]
     },
     "execution_count": 5,
     "metadata": {},
     "output_type": "execute_result"
    }
   ],
   "source": [
    "a = \"Merhaba Dünya!\"\n",
    "a.replace(\"M\", \"N\")"
   ]
  },
  {
   "cell_type": "code",
   "execution_count": 6,
   "id": "effeb930",
   "metadata": {},
   "outputs": [
    {
     "data": {
      "text/plain": [
       "['Merhaba', 'Dünya!']"
      ]
     },
     "execution_count": 6,
     "metadata": {},
     "output_type": "execute_result"
    }
   ],
   "source": [
    "a = \"Merhaba Dünya!\"\n",
    "a.split(\" \")"
   ]
  },
  {
   "cell_type": "code",
   "execution_count": 7,
   "id": "f7ddd66e-995c-49d1-bd86-052d13fdeba7",
   "metadata": {},
   "outputs": [
    {
     "name": "stdout",
     "output_type": "stream",
     "text": [
      "False\n",
      "True\n"
     ]
    }
   ],
   "source": [
    "txt = \"Akdeniz Bölgesinde dağlar denize paraleldir\"\n",
    "x = \"paralel\" not in txt\n",
    "print(x)\n",
    "y = \"paralel\" in txt\n",
    "print(y)"
   ]
  },
  {
   "cell_type": "code",
   "execution_count": 8,
   "id": "ec4592ca",
   "metadata": {},
   "outputs": [
    {
     "name": "stdout",
     "output_type": "stream",
     "text": [
      "Benim adım Murat, ve ben 36 yaşındayım!\n"
     ]
    }
   ],
   "source": [
    "yas = 36\n",
    "metin = \"Benim adım Murat, ve ben {} yaşındayım!\"\n",
    "print(metin.format(yas))"
   ]
  },
  {
   "cell_type": "code",
   "execution_count": 9,
   "id": "f6f88781",
   "metadata": {},
   "outputs": [
    {
     "name": "stdout",
     "output_type": "stream",
     "text": [
      "Ben 3 parça 567 numaralı üründen 49.95 TL karşılığında alacağım.\n"
     ]
    }
   ],
   "source": [
    "adet = 3\n",
    "urun = 567\n",
    "fiyat = 49.95\n",
    "siparis = \"Ben {0} parça {1} numaralı üründen {2} TL karşılığında alacağım.\"\n",
    "print(siparis.format(adet, urun, fiyat))"
   ]
  },
  {
   "cell_type": "markdown",
   "id": "a3d3e4a7-915d-4f05-9f85-07f791d59b77",
   "metadata": {},
   "source": [
    "\\     Üst ayraç\n",
    "\\\\    Ters eğik çizgi\n",
    "\\n    Yeni satır\n",
    "\\r    Giriş (enter)\n",
    "\\t    Sekme\n",
    "\\b    Geri tuşu"
   ]
  },
  {
   "cell_type": "markdown",
   "id": "2b2a0ac3-0c42-4418-8b96-44b5408eeab5",
   "metadata": {},
   "source": [
    "## Slicing"
   ]
  },
  {
   "cell_type": "code",
   "execution_count": 11,
   "id": "c49c3b68-6672-4358-904f-3cfa95fbc2d3",
   "metadata": {},
   "outputs": [
    {
     "name": "stdout",
     "output_type": "stream",
     "text": [
      "[1, 2]\n"
     ]
    }
   ],
   "source": [
    "liste = [0, 1, 2, 3, 4, 5]\n",
    "# İndis 1'den 3'e kadar dilimleme (hariç)\n",
    "print(liste[1:3])  "
   ]
  },
  {
   "cell_type": "markdown",
   "id": "d0f9ea06-561f-47bc-bb7d-c2abf24cdcea",
   "metadata": {},
   "source": [
    "baslangic, dilimlemenin başladığı dizin (dahil).\r\n",
    "bitis, dilimlemenin sona erdiği dizin (hariç).\r\n",
    "adim (isteğe bağlı), indisler arasındaki artıştır."
   ]
  },
  {
   "cell_type": "code",
   "execution_count": 12,
   "id": "00e57119-62aa-4705-9568-56f7989b0f34",
   "metadata": {},
   "outputs": [
    {
     "name": "stdout",
     "output_type": "stream",
     "text": [
      "!aynüD ,abahreM\n"
     ]
    }
   ],
   "source": [
    "dize = \"Merhaba, Dünya!\"\n",
    "# Diziyi tersine çevirme\n",
    "print(dize[::-1])  # Çıktı: \"!aynlüD ,abahreM\""
   ]
  },
  {
   "cell_type": "markdown",
   "id": "731bfe90-e91c-4ac4-92dd-c23e5e04fa3a",
   "metadata": {},
   "source": [
    "## İmmutability & mutable"
   ]
  },
  {
   "cell_type": "code",
   "execution_count": null,
   "id": "68b1a52c-5577-4f39-a367-fdd6563bd141",
   "metadata": {},
   "outputs": [],
   "source": []
  },
  {
   "cell_type": "markdown",
   "id": "006226a2-f703-4925-9d62-8a58d17acb07",
   "metadata": {},
   "source": [
    "## Listeler "
   ]
  },
  {
   "cell_type": "code",
   "execution_count": 13,
   "id": "8ef438b9-8864-4a5c-a920-ec4ed593f6d9",
   "metadata": {},
   "outputs": [
    {
     "name": "stdout",
     "output_type": "stream",
     "text": [
      "['elma', 'muz', 'ayva']\n"
     ]
    }
   ],
   "source": [
    "thislist = [\"elma\", \"muz\", \"ayva\"]\n",
    "print(thislist)"
   ]
  },
  {
   "cell_type": "code",
   "execution_count": 14,
   "id": "b6a6539d-5cc1-4c21-8cad-9318bc3a643a",
   "metadata": {},
   "outputs": [
    {
     "data": {
      "text/plain": [
       "1"
      ]
     },
     "execution_count": 14,
     "metadata": {},
     "output_type": "execute_result"
    }
   ],
   "source": [
    "thislist = [\"elma\", \"muz\", \"ayva\"]\n",
    "thislist.count(\"elma\")"
   ]
  },
  {
   "cell_type": "code",
   "execution_count": 15,
   "id": "db48fa73-3808-4023-ab9a-1ed70dd148fe",
   "metadata": {},
   "outputs": [
    {
     "name": "stdout",
     "output_type": "stream",
     "text": [
      "muz\n"
     ]
    }
   ],
   "source": [
    "thislist = [\"elma\", \"muz\", \"ayva\"]\n",
    "print(thislist[1])"
   ]
  },
  {
   "cell_type": "code",
   "execution_count": 16,
   "id": "50d3359c-f7c4-4731-9cf4-538be850f6c6",
   "metadata": {},
   "outputs": [
    {
     "name": "stdout",
     "output_type": "stream",
     "text": [
      "kiraz\n"
     ]
    }
   ],
   "source": [
    "thislist = [\"elma\", \"armut\", \"kiraz\"]\n",
    "print(thislist[-1])"
   ]
  },
  {
   "cell_type": "code",
   "execution_count": 17,
   "id": "15291b83-6998-40e2-938c-7e419eafa7ed",
   "metadata": {},
   "outputs": [
    {
     "name": "stdout",
     "output_type": "stream",
     "text": [
      "['kiraz', 'portakal', 'kivi']\n"
     ]
    }
   ],
   "source": [
    "thislist = [\"elma\", \"muz\", \"kiraz\", \"portakal\", \"kivi\", \"karpuz\", \"mango\"]\n",
    "print(thislist[2:5])\n"
   ]
  },
  {
   "cell_type": "code",
   "execution_count": 18,
   "id": "ec76c759-3348-4cf6-af83-8396645f5a81",
   "metadata": {},
   "outputs": [
    {
     "name": "stdout",
     "output_type": "stream",
     "text": [
      "['mandalina', 'muz', 'armut']\n"
     ]
    }
   ],
   "source": [
    "liste = [\"elma\", \"muz\", \"armut\"]\n",
    "liste[0] = \"mandalina\"\n",
    "print(liste)"
   ]
  },
  {
   "cell_type": "code",
   "execution_count": 19,
   "id": "ebdb42a4-e4c8-4940-aa6c-638b372fe03b",
   "metadata": {},
   "outputs": [
    {
     "name": "stdout",
     "output_type": "stream",
     "text": [
      "Evet, elma listede var!\n"
     ]
    }
   ],
   "source": [
    "liste = [\"elma\", \"muz\", \"kiraz\"]\n",
    "if \"elma\" in liste:\n",
    " print(\"Evet, elma listede var!\")"
   ]
  },
  {
   "cell_type": "code",
   "execution_count": 20,
   "id": "a87480b0-d831-4b10-bca0-c666bb62374b",
   "metadata": {},
   "outputs": [
    {
     "name": "stdout",
     "output_type": "stream",
     "text": [
      "3\n"
     ]
    }
   ],
   "source": [
    "liste = [\"elma\", \"muz\", \"kiraz\"]\n",
    "print(len(liste))"
   ]
  },
  {
   "cell_type": "code",
   "execution_count": 21,
   "id": "de4d4678-6708-4061-ba4d-95dc72d31a18",
   "metadata": {},
   "outputs": [
    {
     "name": "stdout",
     "output_type": "stream",
     "text": [
      "['elma', 'muz', 'kiraz', 'kavun']\n"
     ]
    }
   ],
   "source": [
    "liste = [\"elma\", \"muz\", \"kiraz\"]\n",
    "liste.append(\"kavun\")\n",
    "print(liste)"
   ]
  },
  {
   "cell_type": "code",
   "execution_count": 22,
   "id": "74d15120-7ae7-4643-9c40-e603aadcc77b",
   "metadata": {},
   "outputs": [
    {
     "name": "stdout",
     "output_type": "stream",
     "text": [
      "['elma', 'kavun', 'muz', 'kiraz']\n"
     ]
    }
   ],
   "source": [
    "liste = [\"elma\", \"muz\", \"kiraz\"]\n",
    "liste.insert(1, \"kavun\")\n",
    "print(liste)"
   ]
  },
  {
   "cell_type": "code",
   "execution_count": 23,
   "id": "1a61d5ea-5e9d-47b8-b315-4f6de29207ff",
   "metadata": {},
   "outputs": [
    {
     "name": "stdout",
     "output_type": "stream",
     "text": [
      "['elma', 'muz', 'kiraz']\n"
     ]
    }
   ],
   "source": [
    "liste = [\"elma\", \"muz\", \"kiraz\", \"kavun\"]\n",
    "liste.remove(\"kavun\")\n",
    "print(liste)"
   ]
  },
  {
   "cell_type": "code",
   "execution_count": 24,
   "id": "1b299873-16c1-491c-adde-4ccdef9ea121",
   "metadata": {},
   "outputs": [
    {
     "name": "stdout",
     "output_type": "stream",
     "text": [
      "['elma', 'muz', 'kiraz']\n"
     ]
    }
   ],
   "source": [
    "liste = [\"elma\", \"muz\", \"kiraz\", \"kavun\"]\n",
    "liste.pop()\n",
    "print(liste)"
   ]
  },
  {
   "cell_type": "code",
   "execution_count": 25,
   "id": "2a2231d7-3091-4316-bb14-7ad6743514af",
   "metadata": {},
   "outputs": [
    {
     "name": "stdout",
     "output_type": "stream",
     "text": [
      "['kiraz', 'çilek']\n"
     ]
    }
   ],
   "source": [
    "meyveler = [\"armut\", \"kiraz\", \"çilek\"]\n",
    "del meyveler[0]\n",
    "print(meyveler)"
   ]
  },
  {
   "cell_type": "code",
   "execution_count": 26,
   "id": "050e5c6a-133e-4beb-ae8b-7ba3c49ed92e",
   "metadata": {},
   "outputs": [
    {
     "name": "stdout",
     "output_type": "stream",
     "text": [
      "[]\n"
     ]
    }
   ],
   "source": [
    "meyveler = [\"armut\", \"kiraz\", \"çilek\"]\n",
    "meyveler.clear();\n",
    "print(meyveler)"
   ]
  },
  {
   "cell_type": "code",
   "execution_count": 27,
   "id": "28ae5d6a-0858-49fb-8530-bf9c936582b8",
   "metadata": {},
   "outputs": [
    {
     "name": "stdout",
     "output_type": "stream",
     "text": [
      "['armut', 'kiraz', 'çilek']\n"
     ]
    }
   ],
   "source": [
    "meyveler = [\"armut\", \"kiraz\", \"çilek\"]\n",
    "yeniliste = meyveler.copy();\n",
    "print(yeniliste)"
   ]
  },
  {
   "cell_type": "code",
   "execution_count": 28,
   "id": "4811e076-7c5a-43b3-9269-5c355c7357c6",
   "metadata": {},
   "outputs": [
    {
     "name": "stdout",
     "output_type": "stream",
     "text": [
      "['armut', 'kiraz', 'çilek']\n"
     ]
    }
   ],
   "source": [
    "meyveler = [\"armut\", \"kiraz\", \"çilek\"]\n",
    "yeniliste = list(meyveler)\n",
    "print(yeniliste)"
   ]
  },
  {
   "cell_type": "code",
   "execution_count": 29,
   "id": "401993a8-5b9d-40dc-8cf6-60044a39da2f",
   "metadata": {},
   "outputs": [
    {
     "name": "stdout",
     "output_type": "stream",
     "text": [
      "['a', 'b', 'c', 1, 2, 3]\n"
     ]
    }
   ],
   "source": [
    "list1 = [\"a\", \"b\" , \"c\"]\n",
    "list2 = [1, 2, 3]\n",
    "\n",
    "list3 = list1 + list2\n",
    "print(list3)"
   ]
  },
  {
   "cell_type": "code",
   "execution_count": 30,
   "id": "080a4047-8733-4fa5-8ab8-72b852664fda",
   "metadata": {},
   "outputs": [
    {
     "name": "stdout",
     "output_type": "stream",
     "text": [
      "['a', 'b', 'c', 1, 2, 3]\n"
     ]
    }
   ],
   "source": [
    "list1 = [\"a\", \"b\" , \"c\"]\n",
    "list2 = [1, 2, 3]\n",
    "\n",
    "list1.extend(list2)\n",
    "print(list1)"
   ]
  },
  {
   "cell_type": "code",
   "execution_count": 31,
   "id": "6db2372b-4a7a-40ad-a7e1-d77edf6fd943",
   "metadata": {},
   "outputs": [
    {
     "name": "stdout",
     "output_type": "stream",
     "text": [
      "['elma', 'muz', 'kiraz']\n"
     ]
    }
   ],
   "source": [
    "meyveler = list((\"elma\", \"muz\", \"kiraz\")) # dikkat! parantezler köşeli değil\n",
    "print(meyveler)"
   ]
  },
  {
   "cell_type": "code",
   "execution_count": 32,
   "id": "4d130f74-d32c-4de5-989d-0931651cf507",
   "metadata": {},
   "outputs": [
    {
     "data": {
      "text/plain": [
       "[3, 5]"
      ]
     },
     "execution_count": 32,
     "metadata": {},
     "output_type": "execute_result"
    }
   ],
   "source": [
    "nestedlist = [4,5,[3,5]]\n",
    "nestedlist[2]"
   ]
  },
  {
   "cell_type": "code",
   "execution_count": null,
   "id": "10a1c1f8-a634-4bae-8ab7-d5e9f69accf1",
   "metadata": {},
   "outputs": [],
   "source": []
  },
  {
   "cell_type": "code",
   "execution_count": null,
   "id": "e3257a4c-8141-4352-8e2d-993465ff6a0d",
   "metadata": {},
   "outputs": [],
   "source": []
  }
 ],
 "metadata": {
  "kernelspec": {
   "display_name": "Python 3 (ipykernel)",
   "language": "python",
   "name": "python3"
  },
  "language_info": {
   "codemirror_mode": {
    "name": "ipython",
    "version": 3
   },
   "file_extension": ".py",
   "mimetype": "text/x-python",
   "name": "python",
   "nbconvert_exporter": "python",
   "pygments_lexer": "ipython3",
   "version": "3.11.5"
  }
 },
 "nbformat": 4,
 "nbformat_minor": 5
}
